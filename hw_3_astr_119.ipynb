{
 "cells": [
  {
   "cell_type": "markdown",
   "metadata": {},
   "source": [
    "Find the roots of\n",
    "# f(x)=1.01x^2-3.04x+2.07\n",
    "using Bisection Search root finding.\n",
    "Use tolorence of 1e-6 for f(x)=0"
   ]
  },
  {
   "cell_type": "code",
   "execution_count": 79,
   "metadata": {},
   "outputs": [],
   "source": [
    "%matplotlib inline\n",
    "import numpy as np\n",
    "import matplotlib.pyplot as plt"
   ]
  },
  {
   "cell_type": "markdown",
   "metadata": {},
   "source": [
    "### Define function for root finding"
   ]
  },
  {
   "cell_type": "code",
   "execution_count": 80,
   "metadata": {},
   "outputs": [],
   "source": [
    "def function_for_roots(x):\n",
    "    a=1.01\n",
    "    b=-3.04\n",
    "    c=2.07\n",
    "    return a*x**2 +b*x +c"
   ]
  },
  {
   "cell_type": "markdown",
   "metadata": {},
   "source": [
    "Check validity of of initial values"
   ]
  },
  {
   "cell_type": "code",
   "execution_count": 81,
   "metadata": {},
   "outputs": [],
   "source": [
    "def check_initial_values(f, x_min, x_max, tol):\n",
    "    \n",
    "    #checking guesses\n",
    "    y_min = f(x_min)\n",
    "    y_max = f(x_max)\n",
    "    \n",
    "    #check x_min/x_max contain 0 crossing\n",
    "    if(y_min*y_max>=0.0):\n",
    "        print(\"No zero crossing found in the range\", x_min,x_max)\n",
    "        s = \"f(%f) = %f, f(%f)=%f\" % (x_min,y_min,x_max,y_max)\n",
    "        print(s)\n",
    "        return 0\n",
    "    # if x_min is a root, then return flag == 1\n",
    "    if(np.fabs(y_min)<tol):\n",
    "        return 1\n",
    "    \n",
    "    # if x_max is a root, then return flag == 2\n",
    "    if(np.fabs(y_max)<tol):\n",
    "        return 2\n",
    "    \n",
    "    #if we reach this point, the bracket is valid\n",
    "    #and we return 3\n",
    "    return 3"
   ]
  },
  {
   "cell_type": "markdown",
   "metadata": {},
   "source": [
    "Define main work function"
   ]
  },
  {
   "cell_type": "code",
   "execution_count": 108,
   "metadata": {},
   "outputs": [],
   "source": [
    "def bisection_root_finding(f, x_min_start, x_max_start, tol):\n",
    "    \n",
    "    # this function uses bisection search to find a root\n",
    "    \n",
    "    x_min = x_min_start  #minimum x in bracket\n",
    "    x_max = x_max_start  #maximum x in bracket\n",
    "    x_mid = 0.0          #mid point\n",
    "    \n",
    "    y_min = f(x_min)\n",
    "    y_max = f(x_max)\n",
    "    y_mid = 0.0\n",
    "    \n",
    "    imax= 10000\n",
    "    i = 0\n",
    "    \n",
    "    #check the initial values\n",
    "    flag = check_initial_values(f,x_min,x_max,tol)\n",
    "    if(flag==0):\n",
    "        print(\"error in bisection_root_finding().\")\n",
    "        raise ValueError('initial values invalid', x_min,x_max)\n",
    "    elif(flag==1):\n",
    "        #lucky guess\n",
    "        return x_min\n",
    "    elif(flag==2):\n",
    "        return x_max\n",
    "    \n",
    "    #if we reach here we need to conduct the search\n",
    "    \n",
    "    #set flag\n",
    "    flag = 1\n",
    "    \n",
    "\n",
    "    \n",
    "    #enter while loop\n",
    "    while(flag):\n",
    "        x_mid = 0.5*(x_min+x_max)\n",
    "        y_mid = f(x_mid)\n",
    "        \n",
    "        #check x_mid as root\n",
    "        if(np.fabs(y_mid)<tol):\n",
    "            flag=0\n",
    "        else:\n",
    "            #x_mid not a root; if product of the function is >0 at midpt &1 endpt replace endpt\n",
    "            if(f(x_min)*f(x_mid)>0):\n",
    "                x_min = x_mid\n",
    "            else:\n",
    "                x_max = x_mid\n",
    "                \n",
    "        print(x_min,f(x_min),x_max,f(x_max))\n",
    "    \n",
    "        i+=1\n",
    "        print(i)\n",
    "        \n",
    "    \n",
    "    if(i>=imax):\n",
    "        print(\"exceeded max # of iterations = \", i)\n",
    "        s= \"Min bracket f(%f) = %f\" % (x_min,f(x_min))\n",
    "        print(s)\n",
    "        s= \"Max bracket f(%f) = %f\" % (x_max,f(x_max))\n",
    "        print(s)\n",
    "        s= \"Mid bracket f(%f) = %f\" % (x_mid,f(x_mid))\n",
    "        print(s)\n",
    "        raise StopIteration('Stopping iterations after ',i)\n",
    "    return x_mid\n",
    "    "
   ]
  },
  {
   "cell_type": "code",
   "execution_count": 125,
   "metadata": {
    "scrolled": true
   },
   "outputs": [
    {
     "name": "stdout",
     "output_type": "stream",
     "text": [
      "0.75 0.3581249999999996\n",
      "1.5 -0.2175000000000007\n",
      "0.75 0.3581249999999996 1.125 -0.07171875000000005\n",
      "1\n",
      "0.9375 0.10769531249999975 1.125 -0.07171875000000005\n",
      "2\n",
      "1.03125 0.009111328124999485 1.125 -0.07171875000000005\n",
      "3\n",
      "1.03125 0.009111328124999485 1.078125 -0.033522949218749876\n",
      "4\n",
      "1.03125 0.009111328124999485 1.0546875 -0.012760620117187482\n",
      "5\n",
      "1.03125 0.009111328124999485 1.04296875 -0.0019633483886720704\n",
      "6\n",
      "1.037109375 0.0035393142700193003 1.04296875 -0.0019633483886720704\n",
      "7\n",
      "1.0400390625 0.0007793140411376243 1.04296875 -0.0019633483886720704\n",
      "8\n",
      "1.0400390625 0.0007793140411376243 1.04150390625 -0.0005941843986509987\n",
      "9\n",
      "1.040771484375 9.202301502186927e-05 1.04150390625 -0.0005941843986509987\n",
      "10\n",
      "1.040771484375 9.202301502186927e-05 1.0411376953125 -0.0002512161433698701\n",
      "11\n",
      "1.040771484375 9.202301502186927e-05 1.04095458984375 -7.963042706249368e-05\n",
      "12\n",
      "1.040863037109375 6.1878282573424315e-06 1.04095458984375 -7.963042706249368e-05\n",
      "13\n",
      "1.040863037109375 6.1878282573424315e-06 1.0409088134765625 -3.6723415833161965e-05\n",
      "14\n",
      "1.040863037109375 6.1878282573424315e-06 1.0408859252929688 -1.5268322895334308e-05\n",
      "15\n",
      "1.040863037109375 6.1878282573424315e-06 1.0408744812011719 -4.540379595852073e-06\n",
      "16\n",
      "1.040863037109375 6.1878282573424315e-06 1.0408744812011719 -4.540379595852073e-06\n",
      "17\n",
      "root found with y(1.040869) = 0.000001\n",
      "1.5 -0.2175000000000007\n",
      "2.5 0.7825000000000002\n",
      "1.5 -0.2175000000000007 2.0 0.029999999999999805\n",
      "1\n",
      "1.75 -0.15687500000000032 2.0 0.029999999999999805\n",
      "2\n",
      "1.875 -0.07921875000000034 2.0 0.029999999999999805\n",
      "3\n",
      "1.9375 -0.028554687499999787 2.0 0.029999999999999805\n",
      "4\n",
      "1.96875 -0.0002636718750004263 2.0 0.029999999999999805\n",
      "5\n",
      "1.96875 -0.0002636718750004263 1.984375 0.014621582031250302\n",
      "6\n",
      "1.96875 -0.0002636718750004263 1.9765625 0.0071173095703125355\n",
      "7\n",
      "1.96875 -0.0002636718750004263 1.97265625 0.0034114074707027875\n",
      "8\n",
      "1.96875 -0.0002636718750004263 1.970703125 0.0015700149536130859\n",
      "9\n",
      "1.96875 -0.0002636718750004263 1.9697265625 0.0006522083282467506\n",
      "10\n",
      "1.96875 -0.0002636718750004263 1.96923828125 0.00019402742385876692\n",
      "11\n",
      "1.968994140625 -3.4882426261706456e-05 1.96923828125 0.00019402742385876692\n",
      "12\n",
      "1.968994140625 -3.4882426261706456e-05 1.9691162109375 7.955744862586656e-05\n",
      "13\n",
      "1.968994140625 -3.4882426261706456e-05 1.96905517578125 2.233374863847004e-05\n",
      "14\n",
      "1.969024658203125 -6.275279447631732e-06 1.96905517578125 2.233374863847004e-05\n",
      "15\n",
      "1.969024658203125 -6.275279447631732e-06 1.9690399169921875 8.028999435971684e-06\n",
      "16\n",
      "1.969024658203125 -6.275279447631732e-06 1.9690399169921875 8.028999435971684e-06\n",
      "17\n",
      "root found with y(1.040869) = 0.000001\n"
     ]
    }
   ],
   "source": [
    "x_min = 0.75\n",
    "x_max = 1.5\n",
    "tolerance = 1.0e-6\n",
    "\n",
    "print(x_min,function_for_roots(x_min))\n",
    "print(x_max,function_for_roots(x_max))\n",
    "\n",
    "x_root = bisection_root_finding(function_for_roots,x_min,x_max,tolerance)\n",
    "y_root = function_for_roots(x_root)\n",
    "\n",
    "s = \"root found with y(%f) = %f\" % (x_root,y_root)\n",
    "print(s)\n",
    "\n",
    "x_min2 = 1.5\n",
    "x_max2 = 2.5\n",
    "tolerance = 1.0e-6\n",
    "\n",
    "print(x_min2,function_for_roots(x_min2))\n",
    "print(x_max2,function_for_roots(x_max2))\n",
    "\n",
    "x_root2 = bisection_root_finding(function_for_roots,x_min2,x_max2,tolerance)\n",
    "y_root2 = function_for_roots(x_root)\n",
    "\n",
    "s = \"root found with y(%f) = %f\" % (x_root,y_root)\n",
    "print(s)\n"
   ]
  },
  {
   "cell_type": "markdown",
   "metadata": {},
   "source": [
    "it takes 18 iterations to find our roots"
   ]
  },
  {
   "cell_type": "code",
   "execution_count": null,
   "metadata": {},
   "outputs": [],
   "source": [
    "x=np.linspace(0,3,1000)\n",
    "\n",
    "plt.plot(x,function_for_roots(x))\n",
    "plt.xlim(0,3)\n",
    "plt.ylim(-0.5,2.1)\n",
    "\n",
    "plt.axhline(0)\n",
    "\n",
    "plt.plot(x_root,y_root, 'o')\n",
    "plt.plot(x_root2,y_root2, 'o')\n",
    "plt.plot(x_min,0,'o')\n",
    "plt.plot(x_max,0, 'o')\n",
    "plt.plot(x_max2,0, 'o')"
   ]
  },
  {
   "cell_type": "code",
   "execution_count": null,
   "metadata": {},
   "outputs": [],
   "source": []
  },
  {
   "cell_type": "code",
   "execution_count": null,
   "metadata": {},
   "outputs": [],
   "source": []
  }
 ],
 "metadata": {
  "kernelspec": {
   "display_name": "Python 3",
   "language": "python",
   "name": "python3"
  },
  "language_info": {
   "codemirror_mode": {
    "name": "ipython",
    "version": 3
   },
   "file_extension": ".py",
   "mimetype": "text/x-python",
   "name": "python",
   "nbconvert_exporter": "python",
   "pygments_lexer": "ipython3",
   "version": "3.7.0"
  }
 },
 "nbformat": 4,
 "nbformat_minor": 2
}
